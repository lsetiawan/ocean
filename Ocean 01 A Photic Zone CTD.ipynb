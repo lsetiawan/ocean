{
 "cells": [
  {
   "cell_type": "markdown",
   "metadata": {},
   "source": [
    "# Photic Zone: CTD and other low data rate sensors\n",
    "\n",
    "\n",
    "The 'photic zone' is the upper layer of the ocean regularly illuminated by sunlight. This set of photic zone \n",
    "notebooks concerns sensor data from the surface to about 200 meters depth. Data are acquired from two to nine\n",
    "times per day by shallow profilers. This notebook covers CTD (salinity \n",
    "and temperature), dissolved oxygen, nitrate, pH, spectral irradiance, fluorometry and photosynthetically \n",
    "available radiation (PAR).  \n",
    "\n",
    "\n",
    "Data are first taken from the Regional Cabled Array shallow profilers and platforms. A word of explanation here: The\n",
    "profilers rise and then fall over the course of about 80 minutes, nine times per day, from a depth of 200 meters\n",
    "to within about 10 meters of the surface. As the ascend and descend they record data. The resting location in\n",
    "between these excursions is a platform 200 meters below the surface that is anchored to the see floor. The platform\n",
    "also carries sensors that measure basic ocean water properties.\n",
    "\n",
    "\n",
    "<BR>\n",
    "<img src=\"./images/vessels/revelle.jpg\" style=\"float: left;\" alt=\"ship and iceberg photo\" width=\"900\"/>\n",
    "<div style=\"clear: left\"><BR>\n",
    "\n",
    "\n",
    "Research ship Revelle in the southern ocean: 100 meters in length. \n",
    "Note: Ninety percent of this iceberg is beneath the surface. \n",
    "\n",
    "\n",
    "More on the Regional Cabled Array oceanography program [here](https://interactiveoceans.washington.edu).\n",
    "    \n",
    "    \n",
    "### Study site locations\n",
    "    \n",
    "\n",
    "We begin with three sites in the northeast Pacific: \n",
    "    \n",
    "\n",
    "```\n",
    "Site name               Lat               Lon\n",
    "------------------      ---               ---\n",
    "Oregon Offshore         44.37415          -124.95648\n",
    "Oregon Slope Base       44.52897          -125.38966 \n",
    "Axial Base              45.83049          -129.75326\n",
    "```   \n"
   ]
  },
  {
   "cell_type": "code",
   "execution_count": null,
   "metadata": {},
   "outputs": [],
   "source": [
    "import os, sys, time, glob, warnings\n",
    "from IPython.display import clear_output             # use inside loop with clear_output(wait = True) followed by print(i)\n",
    "warnings.filterwarnings('ignore')\n",
    "this_dir = os.getcwd()\n",
    "data_dir = this_dir + '/../data'\n",
    "\n",
    "from matplotlib import pyplot as plt\n",
    "from matplotlib import colors as mplcolors\n",
    "import numpy as np, pandas as pd, xarray as xr\n",
    "from numpy import datetime64 as dt64, timedelta64 as td64\n",
    "\n",
    "# convenience functions abbreviating 'datetime64' and so on\n",
    "def doy(theDatetime): return 1 + int((theDatetime - dt64(str(theDatetime)[0:4] + '-01-01')) / td64(1, 'D'))\n",
    "def dt64_from_doy(year, doy): return dt64(str(year) + '-01-01') + td64(doy-1, 'D')\n",
    "def day_of_month_to_string(d): return str(d) if d > 9 else '0' + str(d)\n",
    "\n",
    "print('\\nJupyter Notebook running Python {}'.format(sys.version_info[0]))"
   ]
  },
  {
   "cell_type": "markdown",
   "metadata": {},
   "source": [
    "## CTD including Dissolved Oxygen"
   ]
  },
  {
   "cell_type": "code",
   "execution_count": null,
   "metadata": {},
   "outputs": [],
   "source": [
    "osb_ctd_nc_file = \"./data/rca/ctd/osb_ctd_jan2019_1min.nc\"\n",
    "ds_CTD = xr.open_dataset(osb_ctd_nc_file)\n",
    "ds_CTD"
   ]
  },
  {
   "cell_type": "code",
   "execution_count": null,
   "metadata": {},
   "outputs": [],
   "source": [
    "time0 = dt64('2019-01-01')\n",
    "time1 = dt64('2019-01-02')\n",
    "ds_CTD_time_slice = ds_CTD.sel(time=slice(time0, time1))    # one day\n",
    "fig, axs = plt.subplots(figsize=(12,4), tight_layout=True)\n",
    "axs.plot(ds_CTD_time_slice.time, ds_CTD_time_slice.seawater_pressure, \\\n",
    "            marker='.', markersize=9., color='k', markerfacecolor='r')\n",
    "axs.set(ylim = (200., 0.), title='nine profiles: pressure over 24 hours (profiles)')\n",
    "print('...')"
   ]
  },
  {
   "cell_type": "code",
   "execution_count": null,
   "metadata": {},
   "outputs": [],
   "source": [
    "# this is one approach to time bounding: Grab n days out of a longer dataset (n = 3 for example)\n",
    "# contrasting idea: See the nitrate section where profiles are staggered\n",
    "day_of_month_start = '25'\n",
    "day_of_month_end = '27'\n",
    "time0 = dt64('2019-01-' + day_of_month_start)\n",
    "time1 = dt64('2019-01-' + day_of_month_end)\n",
    "\n",
    "temperature_upper_bound = 12.\n",
    "temperature_lower_bound = 7.\n",
    "salinity_upper_bound = 35.\n",
    "salinity_lower_bound = 32.\n",
    "dissolved_oxygen_upper_bound = 300\n",
    "dissolved_oxygen_lower_bound = 100\n",
    "\n",
    "ds_CTD_time_slice = ds_CTD.sel(time=slice(time0, time1))\n",
    "\n",
    "fig, axs = plt.subplots(3,1,figsize=(12,14), tight_layout=True)\n",
    "axs[0].scatter(ds_CTD_time_slice.seawater_temperature, ds_CTD_time_slice.seawater_pressure, marker='^', s = 1., color='k')\n",
    "axs[0].set(xlim = (temperature_lower_bound, temperature_upper_bound), \\\n",
    "        ylim = (200., 0.), title='several profiles: seawater temperature')\n",
    "axs[1].scatter(ds_CTD_time_slice.practical_salinity, \\\n",
    "            ds_CTD_time_slice.seawater_pressure, marker='^', s = 1., color='r')\n",
    "axs[1].set(xlim = (salinity_lower_bound, salinity_upper_bound), \\\n",
    "        ylim = (200., 0.), title='several profiles: salinity')\n",
    "axs[2].scatter(ds_CTD_time_slice.corrected_dissolved_oxygen, \\\n",
    "            ds_CTD_time_slice.seawater_pressure, marker='^', s = 1., color='b')\n",
    "axs[2].set(xlim = (dissolved_oxygen_lower_bound, dissolved_oxygen_upper_bound), \\\n",
    "        ylim = (200., 0.), title='several profiles: dissolved oxygen')\n",
    "print('...')"
   ]
  },
  {
   "cell_type": "markdown",
   "metadata": {},
   "source": [
    "## pCO2\n",
    "\n",
    "This seems to be only 2600 observations from June 23 to September 27, 2019. \n",
    "These data are otherwise dubious as well. \n",
    "No charting attempted."
   ]
  },
  {
   "cell_type": "code",
   "execution_count": null,
   "metadata": {},
   "outputs": [],
   "source": [
    "# pCO2_source = '/data/rca/pCO2/'\n",
    "# pCO2_data = 'depl*PCO2*.nc'\n",
    "# ds_pCO2 = xr.open_mfdataset(pCO2_source + pCO2_data)   # example of multi-file\n",
    "# ds_pCO2"
   ]
  },
  {
   "cell_type": "code",
   "execution_count": null,
   "metadata": {},
   "outputs": [],
   "source": [
    "# print('pCO2 time range: ' + str(ds_pCO2.time[0].values) + ' to ' + str(ds_pCO2.time[-1].values))\n",
    "#\n",
    "# produces:\n",
    "#\n",
    "# pCO2 time range: 2019-06-23T06:35:03.680657408 to 2019-09-27T17:35:22.647006208"
   ]
  },
  {
   "cell_type": "markdown",
   "metadata": {},
   "source": [
    "## Nitrate\n",
    "\n",
    "\n",
    "This dataset for January 2019 includes 30 days of 31; but also falls over on Jan 16 and 17.\n",
    "There is some corresponding hard-coding. There are two profiles per day -- on at midnight,\n",
    "one at noon -- and these are charted all at once using a shift-per-day approach."
   ]
  },
  {
   "cell_type": "code",
   "execution_count": null,
   "metadata": {},
   "outputs": [],
   "source": [
    "nitrate_source = './data/rca/nitrate/'\n",
    "nitrate_data_midnight = 'nc_midn_2019_01.nc'\n",
    "nitrate_data_noon     = 'nc_noon_2019_01.nc'\n",
    "\n",
    "ds_nitrate_midn = xr.load_dataset(nitrate_source + nitrate_data_midnight)\n",
    "ds_nitrate_noon = xr.load_dataset(nitrate_source + nitrate_data_noon)\n",
    "\n",
    "ds_nitrate_midn"
   ]
  },
  {
   "cell_type": "code",
   "execution_count": null,
   "metadata": {},
   "outputs": [],
   "source": [
    "# to do: auto-detect the data fails on doy 16, 17, 31 rather than hardcode exceptions\n",
    "#     try: f = ds_nitrate_noon.nitrate_concentration.sel(doy=16)\n",
    "#     except: print('16 bad')\n",
    "# to do: print day of month adjacent to profile; verify noon - midn colors match for corresp doy \n",
    "\n",
    "nProfiles = 30\n",
    "profile_shift = 7\n",
    "colorwheel = ['k', 'r', 'y', 'g', 'c', 'b', 'm']\n",
    "cwmod = len(colorwheel)\n",
    "nitrate_upper_bound = 50 + (nProfiles - 1)*profile_shift\n",
    "nitrate_lower_bound = 5\n",
    "fig, axs = plt.subplots(2,1,figsize=(12,12), tight_layout=True)\n",
    "for da_i in ds_nitrate_midn.doy:                # da_ means it is a data array\n",
    "    i = int(da_i)                               # taking int(da) gives day of month as integer\n",
    "    if not (i == 16 or i == 17 or i == 31):     # these three days fail to chart (harcoded; see to do)\n",
    "        axs[0].scatter(ds_nitrate_noon.nitrate_concentration.sel(doy=i) + i*profile_shift, \\\n",
    "            ds_nitrate_noon.int_ctd_pressure_bins,  marker='.', s=3., color=colorwheel[i%cwmod]) \n",
    "        axs[0].set(xlim = (nitrate_lower_bound, nitrate_upper_bound), \\\n",
    "            ylim = (200., 0.), title='nitrate concentration: noon profile')\n",
    "    axs[1].scatter(ds_nitrate_midn.nitrate_concentration.sel(doy=i)+i*profile_shift, \\\n",
    "        ds_nitrate_midn.int_ctd_pressure_bins,  marker='.', s=3., color=colorwheel[i%cwmod]) \n",
    "    axs[1].set(xlim = (nitrate_lower_bound, nitrate_upper_bound), \\\n",
    "        ylim = (200., 0.), title='nitrate concentration: midnight profile')\n",
    "print('...')"
   ]
  },
  {
   "cell_type": "markdown",
   "metadata": {},
   "source": [
    "## pH\n",
    "\n",
    "As with nitrate above: pH is measured during two profiles each day (of nine possible). "
   ]
  },
  {
   "cell_type": "code",
   "execution_count": null,
   "metadata": {},
   "outputs": [],
   "source": [
    "pH_source = './data/rca/pH/'\n",
    "pH_data = 'osb_sp_phsen_2019.nc'\n",
    "ds_pH = xr.open_dataset(pH_source + pH_data)\n",
    "ds_pH\n",
    "\n",
    "# This generates a pressure/time curtain plot; good in that it shows data dropouts\n",
    "#   ...but better is to color it by pH, see to do\n",
    "# ds_pH.int_ctd_pressure.plot()       \n",
    "# sanity check: Is this profile data as we expect?"
   ]
  },
  {
   "cell_type": "code",
   "execution_count": null,
   "metadata": {},
   "outputs": [],
   "source": [
    "pH_temporary_time_start = '2019-01-21'\n",
    "pH_temporary_time_end   = '2019-01-23'\n",
    "\n",
    "\n",
    "ds_pH_temporary = ds_pH.sel(time=slice(dt64(pH_temporary_time_start), dt64(pH_temporary_time_end)))\n",
    "ds_CTD_temporary = ds_CTD.sel(time=slice(dt64(pH_temporary_time_start), dt64(pH_temporary_time_end)))\n",
    "\n",
    "fig, axs = plt.subplots(figsize=(12,4), tight_layout=True)\n",
    "axs.scatter(ds_CTD_temporary.time, ds_CTD_temporary.seawater_pressure, marker='.', s = 2., color='k')\n",
    "axs.scatter(ds_pH_temporary.time, ds_pH_temporary.int_ctd_pressure, marker='^', s = 64., color='r')\n",
    "axs.set(ylim = (200., 0.), title='Relationship: Profiler depth to pH sampling strategy')\n",
    "print('...')"
   ]
  },
  {
   "cell_type": "code",
   "execution_count": null,
   "metadata": {},
   "outputs": [],
   "source": [
    "pH_lower_bound = 7.6\n",
    "pH_upper_bound = 8.2\n",
    "ds_pH_time_slice = ds_pH.sel(time=slice(time0, time1))\n",
    "fig, axs = plt.subplots(figsize=(12,4), tight_layout=True)\n",
    "axs.scatter(ds_pH_time_slice.ph_seawater, \\\n",
    "            ds_pH_time_slice.int_ctd_pressure, \\\n",
    "            marker='^', s = 4., color='r')\n",
    "axs.set(xlim = (pH_lower_bound, pH_upper_bound), \\\n",
    "        ylim = (200., 0.), title='pH: profiles plus one-shots at end of each profile')\n",
    "print('...')"
   ]
  },
  {
   "cell_type": "markdown",
   "metadata": {},
   "source": [
    "## Fluorometer\n",
    "\n",
    "* Shallow profiler triplet: chlorophyll, cdom and scattering\n",
    "    * Deep profilers are 2-channel\n",
    "    * they operate continuously\n",
    "* osb = Oregon Slope Base, SP = shallow profiler\n",
    "* These data are resampled using mean() to one minute per sample"
   ]
  },
  {
   "cell_type": "code",
   "execution_count": null,
   "metadata": {},
   "outputs": [],
   "source": [
    "fluorometer_source = './data/rca/fluorescence/'\n",
    "fluorometer_data = 'osb_sp_fluor_jan2019.nc'\n",
    "ds_Fluorometer = xr.open_dataset(fluorometer_source + fluorometer_data)\n",
    "ds_Fluorometer"
   ]
  },
  {
   "cell_type": "code",
   "execution_count": null,
   "metadata": {},
   "outputs": [],
   "source": [
    "fluor_chlor_lower_bound = -.05\n",
    "fluor_chlor_upper_bound = 1.4\n",
    "fluor_cdom_lower_bound = 0.\n",
    "fluor_cdom_upper_bound = 3.5\n",
    "fluor_vscat_lower_bound = 0.00005\n",
    "fluor_vscat_upper_bound = 0.0006\n",
    "\n",
    "ds_Fluorometer_time_slice = ds_Fluorometer.sel(time=slice(time0, time1))\n",
    "\n",
    "fig, axs = plt.subplots(3,1,figsize=(12,14), tight_layout=True)\n",
    "axs[0].scatter(ds_Fluorometer_time_slice.fluorometric_chlorophyll_a, \\\n",
    "            ds_Fluorometer_time_slice.int_ctd_pressure, \\\n",
    "            marker='^', s = 1., color='k')\n",
    "axs[1].scatter(ds_Fluorometer_time_slice.fluorometric_cdom, \\\n",
    "            ds_Fluorometer_time_slice.int_ctd_pressure, \\\n",
    "            marker='^', s = 1., color='r')\n",
    "axs[2].scatter(ds_Fluorometer_time_slice.total_volume_scattering_coefficient, \\\n",
    "            ds_Fluorometer_time_slice.int_ctd_pressure, \\\n",
    "            marker='^', s = 1., color='c')\n",
    "axs[0].set(xlim = (fluor_chlor_lower_bound, fluor_chlor_upper_bound), \\\n",
    "           ylim = (200., 0.), title='multiple profiles: fluorometer chlorophyll')\n",
    "axs[1].set(xlim = (fluor_cdom_lower_bound, fluor_cdom_upper_bound), \\\n",
    "        ylim = (200., 0.), title='multiple profiles: fluorometer CDOM')\n",
    "axs[2].set(xlim = (fluor_vscat_lower_bound, fluor_vscat_upper_bound), \\\n",
    "        ylim = (200., 0.), title='multiple profiles: fluorometer volume scattering')\n",
    "print('...')"
   ]
  },
  {
   "cell_type": "code",
   "execution_count": null,
   "metadata": {},
   "outputs": [],
   "source": [
    "# fails\n",
    "# run this to get a check of the units for chlorophyll \n",
    "# ds_flort.fluorometric_chlorophyll_a.units\n",
    "# p = rca_ds_chlor.fluorometric_chlorophyll_a.plot() is an option as well\n",
    "# by assigning the plot to p we have future ornamentation options"
   ]
  },
  {
   "cell_type": "markdown",
   "metadata": {},
   "source": [
    "## Spectral Irradiance\n",
    "\n",
    "* The data variable is `spkir_downwelling_vector` x 7 wavelengths per below\n",
    "* 9 months continuous operation at about 4 samples per second gives 91 million samples\n",
    "* DataSet includes `int_ctd_pressure` and `time` Coordinates; Dimensions are `spectra` (0--6) and `time`\n",
    "* Oregon Slope Base `node : SF01A`, `id : RS01SBPS-SF01A-3D-SPKIRA101-streamed-spkir_data_record`\n",
    "* Correct would be to plot these as a sequence of rainbow plots with depth, etc\n",
    "\n",
    "See [Interactive Oceans](https://interactiveoceans.washington.edu/instruments/spectral-irradiance-sensor/): \n",
    "\n",
    "\n",
    "> The Spectral Irradiance sensor (Satlantic OCR-507 multispectral radiometer) measures the amount of \n",
    "> downwelling radiation (light energy) per unit area that reaches a surface. Radiation is measured \n",
    "> and reported separately for a series of seven wavelength bands (412, 443, 490, 510, 555, 620, \n",
    "> and 683 nm), each between 10-20 nm wide. These measurements depend on the natural illumination \n",
    "> conditions of sunlight and measure apparent optical properties. These measurements also are used \n",
    "> as proxy measurements of important biogeochemical variables in the ocean.\n",
    ">\n",
    "> Spectral Irradiance sensors are installed on the Science Pods on the Shallow Profiler Moorings \n",
    "> at Axial Base (SF01A), Slope Base (SF01A), and at the Endurance Array Offshore (SF01B) sites. \n",
    "> Instruments on the Cabled Array are provided by Satlantic – OCR-507. \n"
   ]
  },
  {
   "cell_type": "code",
   "execution_count": null,
   "metadata": {},
   "outputs": [],
   "source": [
    "spectral_irradiance_source = './data/rca/irradiance/'\n",
    "ds_irradiance = [xr.open_dataset(spectral_irradiance_source + 'osb_sp_irr_spec' + str(i) + '.nc') for i in range(7)]"
   ]
  },
  {
   "cell_type": "code",
   "execution_count": null,
   "metadata": {},
   "outputs": [],
   "source": [
    "# Early attempt at using log crashed the kernel\n",
    "\n",
    "spectral_irradiance_upper_bound = 10.\n",
    "spectral_irradiance_lower_bound = 0.\n",
    "ds_irr_time_slice = [ds_irradiance[i].sel(time = slice(time0, time1)) for i in range(7)]\n",
    "\n",
    "fig, axs = plt.subplots(figsize=(12,8), tight_layout=True)\n",
    "colorwheel = ['k', 'r', 'y', 'g', 'c', 'b', 'm']\n",
    "for i in range(7):\n",
    "    axs.plot(ds_irr_time_slice[i].spkir_downwelling_vector, \\\n",
    "                ds_irr_time_slice[i].int_ctd_pressure, marker='.', markersize = 4., color=colorwheel[i])\n",
    "axs.set(xlim = (spectral_irradiance_lower_bound, spectral_irradiance_upper_bound), \\\n",
    "        ylim = (60., 0.), title='multiple profiles: spectral irradiance')\n",
    "print('...')"
   ]
  },
  {
   "cell_type": "markdown",
   "metadata": {},
   "source": [
    "## Photosynthetically Available Radiation\n",
    "\n",
    "- Abbreviated PAR\n",
    "- instrument string is *parad*\n",
    "- Dubious claim: Can use to identify profile time ranges\n",
    "    - Approximately from the PAR data and can be done very precisely using depth data\n",
    "    - This suggests a derived dataset of profile start / peak / end times"
   ]
  },
  {
   "cell_type": "code",
   "execution_count": null,
   "metadata": {},
   "outputs": [],
   "source": [
    "par_source = './data/rca/par/'\n",
    "par_data = 'osb_sp_par_jan2019.nc'\n",
    "ds_PAR = xr.open_dataset(par_source + par_data)\n",
    "ds_PAR"
   ]
  },
  {
   "cell_type": "code",
   "execution_count": null,
   "metadata": {},
   "outputs": [],
   "source": [
    "par_lower_bound = 0\n",
    "par_upper_bound = 180\n",
    "ds_PAR_time_slice = ds_PAR.sel(time=slice(time0, time1))\n",
    "fig, axs = plt.subplots(figsize=(12,4), tight_layout=True)\n",
    "axs.plot(ds_PAR_time_slice.par_counts_output, ds_PAR_time_slice.int_ctd_pressure, marker='^', markersize = 1., color='m')\n",
    "axs.set(xlim = (par_lower_bound, par_upper_bound), ylim = (75., 0.), title='multiple profiles: PAR counts')\n",
    "print('...')"
   ]
  },
  {
   "cell_type": "code",
   "execution_count": null,
   "metadata": {},
   "outputs": [],
   "source": []
  }
 ],
 "metadata": {
  "kernelspec": {
   "display_name": "Python 3",
   "language": "python",
   "name": "python3"
  },
  "language_info": {
   "codemirror_mode": {
    "name": "ipython",
    "version": 3
   },
   "file_extension": ".py",
   "mimetype": "text/x-python",
   "name": "python",
   "nbconvert_exporter": "python",
   "pygments_lexer": "ipython3",
   "version": "3.8.5"
  }
 },
 "nbformat": 4,
 "nbformat_minor": 5
}
