{
 "cells": [
  {
   "cell_type": "markdown",
   "id": "earned-occurrence",
   "metadata": {},
   "source": [
    "# Photic Zone: Spectrophotometer\n",
    "\n",
    "The photic zone notebooks concern sensor data from the surface to about 200 meters depth: The 'photic zone' is regularly illuminated by sunlight.\n",
    "\n",
    "\n",
    "    \n",
    "### Study site locations\n",
    "    \n",
    "\n",
    "We begin with three sites in the northeast Pacific: \n",
    "    \n",
    "\n",
    "```\n",
    "Site name               Lat               Lon\n",
    "------------------      ---               ---\n",
    "Oregon Offshore         44.37415          -124.95648\n",
    "Oregon Slope Base       44.52897          -125.38966 \n",
    "Axial Base              45.83049          -129.75326\n",
    "```   "
   ]
  },
  {
   "cell_type": "markdown",
   "id": "unusual-practice",
   "metadata": {},
   "source": [
    "### to-do items\n",
    "    \n",
    "- optaa: rolling mean (days), use min for OA, smooth outliers for BA, animation, thin layer discrimination\n",
    "- nitrate sample in relation to dark: Does an SME say there is more to do? "
   ]
  },
  {
   "cell_type": "code",
   "execution_count": null,
   "id": "nasty-sessions",
   "metadata": {},
   "outputs": [],
   "source": []
  }
 ],
 "metadata": {
  "kernelspec": {
   "display_name": "Python 3",
   "language": "python",
   "name": "python3"
  },
  "language_info": {
   "codemirror_mode": {
    "name": "ipython",
    "version": 3
   },
   "file_extension": ".py",
   "mimetype": "text/x-python",
   "name": "python",
   "nbconvert_exporter": "python",
   "pygments_lexer": "ipython3",
   "version": "3.8.3"
  }
 },
 "nbformat": 4,
 "nbformat_minor": 5
}
