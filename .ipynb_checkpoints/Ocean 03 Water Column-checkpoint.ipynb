{
 "cells": [
  {
   "cell_type": "markdown",
   "id": "severe-bradley",
   "metadata": {},
   "source": [
    "# Water Column\n",
    "\n",
    "Concerns sea floor to surface, full water column."
   ]
  },
  {
   "cell_type": "code",
   "execution_count": null,
   "id": "bearing-bundle",
   "metadata": {},
   "outputs": [],
   "source": []
  }
 ],
 "metadata": {
  "kernelspec": {
   "display_name": "Python 3",
   "language": "python",
   "name": "python3"
  },
  "language_info": {
   "codemirror_mode": {
    "name": "ipython",
    "version": 3
   },
   "file_extension": ".py",
   "mimetype": "text/x-python",
   "name": "python",
   "nbconvert_exporter": "python",
   "pygments_lexer": "ipython3",
   "version": "3.8.3"
  }
 },
 "nbformat": 4,
 "nbformat_minor": 5
}
